{
  "nbformat": 4,
  "nbformat_minor": 0,
  "metadata": {
    "colab": {
      "provenance": [],
      "private_outputs": true
    },
    "kernelspec": {
      "name": "python3",
      "display_name": "Python 3"
    },
    "language_info": {
      "name": "python"
    },
    "gpuClass": "standard"
  },
  "cells": [
    {
      "cell_type": "code",
      "execution_count": null,
      "metadata": {
        "id": "fFE0A-bordRn"
      },
      "outputs": [],
      "source": [
        "import json"
      ]
    },
    {
      "cell_type": "code",
      "source": [
        "with open('siteServerTable.json','r') as f:\n",
        "  data=  json.load(f)\n",
        "\n",
        "print(data)"
      ],
      "metadata": {
        "id": "qkwmZMhfrvYi"
      },
      "execution_count": null,
      "outputs": []
    },
    {
      "cell_type": "code",
      "source": [
        "fullList = []\n",
        "fullValueList = []\n",
        "\n",
        "\n",
        "for value in data:\n",
        "  fullList.append(data[value])\n",
        "  fullValueList.append(value)\n",
        "  "
      ],
      "metadata": {
        "id": "Edj-qFX1r0ez"
      },
      "execution_count": null,
      "outputs": []
    },
    {
      "cell_type": "code",
      "source": [
        "fullList"
      ],
      "metadata": {
        "id": "pecuRoYUr7e_"
      },
      "execution_count": null,
      "outputs": []
    },
    {
      "cell_type": "markdown",
      "source": [
        "Full list of site names."
      ],
      "metadata": {
        "id": "ClcdJVdI6_3K"
      }
    },
    {
      "cell_type": "code",
      "source": [
        "print(fullValueList)"
      ],
      "metadata": {
        "id": "NO1EUyEb_maZ"
      },
      "execution_count": null,
      "outputs": []
    },
    {
      "cell_type": "code",
      "source": [
        "fullCategoryList = []\n",
        "counter = 0\n",
        "for s in fullList:\n",
        "  entry = []\n",
        "  entry.append(fullValueList[counter])\n",
        "  for value in s.keys():\n",
        "    entry.append(s[value])\n",
        "  fullCategoryList.append(entry)\n",
        "  counter+=1"
      ],
      "metadata": {
        "id": "_7vcr2lH_7om"
      },
      "execution_count": null,
      "outputs": []
    },
    {
      "cell_type": "code",
      "source": [
        "fullCategoryList"
      ],
      "metadata": {
        "id": "cfcqGjFrBvX9"
      },
      "execution_count": null,
      "outputs": []
    },
    {
      "cell_type": "code",
      "source": [
        "csvDictionary = {i:fullCategoryList[i] for i in range(len(fullCategoryList))}"
      ],
      "metadata": {
        "id": "_sbg9Ej6CuSG"
      },
      "execution_count": null,
      "outputs": []
    },
    {
      "cell_type": "code",
      "source": [
        "csvDictionary"
      ],
      "metadata": {
        "id": "3fU2-YQAC4e_"
      },
      "execution_count": null,
      "outputs": []
    },
    {
      "cell_type": "code",
      "source": [
        "import pandas as pd"
      ],
      "metadata": {
        "id": "ilOnKCFaC5Qa"
      },
      "execution_count": null,
      "outputs": []
    },
    {
      "cell_type": "code",
      "source": [
        "siteCsv = pd.DataFrame.from_dict(csvDictionary,orient=\"index\")"
      ],
      "metadata": {
        "id": "Mri-9iB1C7_Z"
      },
      "execution_count": null,
      "outputs": []
    },
    {
      "cell_type": "code",
      "source": [
        "siteCsv"
      ],
      "metadata": {
        "id": "f9o07vfrDGI_"
      },
      "execution_count": null,
      "outputs": []
    },
    {
      "cell_type": "code",
      "source": [
        "siteColumns = []\n",
        "for value in data:\n",
        "  siteColumns = list(data[value].keys())\n",
        "  break\n",
        "siteColumns"
      ],
      "metadata": {
        "id": "rRAGm1fZDLdd"
      },
      "execution_count": null,
      "outputs": []
    },
    {
      "cell_type": "code",
      "source": [
        "siteCsv.columns = [\"SiteName\",\"City\",\"State\",\"Latitude\",\"Longitude\",\"PollutantDescription\",\"LargestEmission\",\"PollutantType\",\"TotalEmissions\"]"
      ],
      "metadata": {
        "id": "YUwZz6htDtf2"
      },
      "execution_count": null,
      "outputs": []
    },
    {
      "cell_type": "code",
      "source": [
        "siteCsv"
      ],
      "metadata": {
        "id": "sKZKoFrcEBFB"
      },
      "execution_count": null,
      "outputs": []
    },
    {
      "cell_type": "code",
      "source": [
        "siteCsv.to_csv('siteOutput.csv',index=False)"
      ],
      "metadata": {
        "id": "WFQnpfnbEBuS"
      },
      "execution_count": null,
      "outputs": []
    }
  ]
}